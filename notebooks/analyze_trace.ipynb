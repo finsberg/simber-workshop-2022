{
 "cells": [
  {
   "cell_type": "markdown",
   "id": "6f7a6276",
   "metadata": {},
   "source": [
    "# Extracting a trace from the frames and analyze it\n",
    "\n",
    "In this session we will learn how go from the raw images to a trace that we later will analyze. First lets load some data"
   ]
  },
  {
   "cell_type": "code",
   "execution_count": null,
   "id": "ab5f2db3",
   "metadata": {},
   "outputs": [],
   "source": [
    "import mps\n",
    "\n",
    "path = \"/Users/finsberg/Dropbox/Simber/data/20220105_omecamtiv_chipB/control_10850/20220105-80GCaMP20HCF-omecamtiv_Stream_B01_s1_FITC-PS-Stream.tif\"\n",
    "data = mps.MPS(path)"
   ]
  },
  {
   "cell_type": "markdown",
   "id": "0c373255",
   "metadata": {},
   "source": [
    "Now lets take a look at the info and the shape of the frames"
   ]
  },
  {
   "cell_type": "code",
   "execution_count": null,
   "id": "1955a862",
   "metadata": {},
   "outputs": [],
   "source": [
    "print(f\"{data.frames.shape = }\")\n",
    "print(f\"{data.info = }\")"
   ]
  },
  {
   "cell_type": "markdown",
   "id": "515e6f6e",
   "metadata": {},
   "source": [
    "## Plotting the first frame\n",
    "\n",
    "We note that the first and second dimension are spatial and the third dimension is temporal. This means that if we want to get the first frame, then we can access this by selecting all of the two first indices (using the `:` notation for slicing numpy arrays) and selecting the `0` index in the temporal dimension"
   ]
  },
  {
   "cell_type": "code",
   "execution_count": null,
   "id": "2b5b0a5a",
   "metadata": {},
   "outputs": [],
   "source": [
    "first_frame = data.frames[:, :, 0]"
   ]
  },
  {
   "cell_type": "markdown",
   "id": "256b4be2",
   "metadata": {},
   "source": [
    "Lets plot the first frame using `matplotlib`"
   ]
  },
  {
   "cell_type": "code",
   "execution_count": null,
   "id": "7f33e0fc",
   "metadata": {},
   "outputs": [],
   "source": [
    "import matplotlib.pyplot as plt\n",
    "\n",
    "fig, ax = plt.subplots(figsize=(6, 10))\n",
    "ax.imshow(first_frame)\n",
    "ax.set_title(\"First frame\")"
   ]
  },
  {
   "cell_type": "markdown",
   "id": "cefebe6a",
   "metadata": {},
   "source": [
    "We can also rotate the image 90 degrees by transposing the frame using the `.T` method on the array"
   ]
  },
  {
   "cell_type": "code",
   "execution_count": null,
   "id": "4a48cd32",
   "metadata": {},
   "outputs": [],
   "source": [
    "fig, ax = plt.subplots(figsize=(10, 6))\n",
    "ax.imshow(first_frame.T)\n",
    "ax.set_title(\"First frame (transposed)\")"
   ]
  },
  {
   "cell_type": "markdown",
   "id": "a2b62603",
   "metadata": {},
   "source": [
    "## Computing an average trace\n",
    "\n",
    "In order to get to a trace, we need to reduce each frame into a number so that we end up with an array of values for each time stamp. One way to do this is to average over the entire chip. For the first frame we can do this as follows"
   ]
  },
  {
   "cell_type": "code",
   "execution_count": null,
   "id": "9ae8880b",
   "metadata": {},
   "outputs": [],
   "source": [
    "first_frame_mean_value = first_frame.mean()\n",
    "print(f\"{first_frame_mean_value = }\")"
   ]
  },
  {
   "cell_type": "markdown",
   "id": "26867cc2",
   "metadata": {},
   "source": [
    "Now we would like to do this for each frame in `data.frames`. We could do this using a *for loop*, however, this will be quite inefficient. Since `data.frames` is a numpy array we can take the mean over the first two dimensions using the following code"
   ]
  },
  {
   "cell_type": "code",
   "execution_count": null,
   "id": "c1191d46",
   "metadata": {},
   "outputs": [],
   "source": [
    "y = data.frames.mean(axis=(0, 1))"
   ]
  },
  {
   "cell_type": "markdown",
   "id": "e9d79db4",
   "metadata": {},
   "source": [
    "Here we pass in `axis=(0, 1)` to indicate that we should take the average over the first and second dimension.\n",
    "\n",
    "Lets plot the trace againts the time stamps."
   ]
  },
  {
   "cell_type": "code",
   "execution_count": null,
   "id": "94236b76",
   "metadata": {},
   "outputs": [],
   "source": [
    "fig, ax = plt.subplots(figsize=(8, 4))\n",
    "ax.plot(data.time_stamps, y)\n",
    "ax.grid()\n",
    "ax.set_xlabel(\"Time [ms]\")\n",
    "ax.set_ylabel(\"Mean pixel intensity\")"
   ]
  },
  {
   "cell_type": "markdown",
   "id": "170299dc",
   "metadata": {},
   "source": [
    "Note the following:\n",
    "\n",
    "* The $y$-axis here is *mean pixel intensity*.\n",
    "    - These values are not in general related to the physical unit of the trace (i.e calcium concentration or voltage)\n",
    "    - This means that we cannot use features related to the magnitude of the trace, such as max and min values, but temporal values are valid\n",
    "* The baseline is drifting (decaying as a function of time).\n",
    "    - This due to photobleaching and we need to correct for this"
   ]
  },
  {
   "cell_type": "markdown",
   "id": "5c6e2182",
   "metadata": {},
   "source": [
    "### Exercise: Selecting a subset of the pixels for extracting an average trace\n",
    "\n",
    "In the above code we used all the pixels to compute the average however you could image that you only wanted to use the pixels where the tissue is, or even a smaller region. You can do this be finding the indices in the $x$ and $y$-direction. For example\n",
    "\n",
    "```python\n",
    "data.frames[400:600, 50:150, :]\n",
    "```\n",
    "will take out a region in (approximately) the center of the chip.\n",
    "\n",
    "* Try to perform the averaging over a smaller region, and plot the trace. Does the shape and amplitude chage?"
   ]
  },
  {
   "cell_type": "markdown",
   "id": "4219a0cc",
   "metadata": {},
   "source": [
    "## Removing the baseline\n",
    "\n",
    "The first thing we need to do is to remove the baseline so that the effect of photobleaching is removed. To do this we will use the `ap_feaures` package, by converting the trace into a `ap_features` object."
   ]
  },
  {
   "cell_type": "code",
   "execution_count": null,
   "id": "d18a379c",
   "metadata": {},
   "outputs": [],
   "source": [
    "import ap_features as apf\n",
    "\n",
    "trace = apf.Beats(y=y, t=data.time_stamps)"
   ]
  },
  {
   "cell_type": "code",
   "execution_count": null,
   "id": "ff5b39c6",
   "metadata": {},
   "outputs": [],
   "source": [
    "trace.plot()"
   ]
  },
  {
   "cell_type": "markdown",
   "id": "18bd33fa",
   "metadata": {},
   "source": [
    "Well, this looks very similar to what we had before. When constructing this object we can also pass in another argument called `background_correction_method`."
   ]
  },
  {
   "cell_type": "code",
   "execution_count": null,
   "id": "3676629d",
   "metadata": {},
   "outputs": [],
   "source": [
    "trace = apf.Beats(y=y, t=data.time_stamps, background_correction_method=\"full\")\n",
    "trace.plot()"
   ]
  },
  {
   "cell_type": "markdown",
   "id": "5aa9e72a",
   "metadata": {},
   "source": [
    "We now now see that the background is removed, and that the $y$-axis got different values. The correct label for the label would be $\\Delta F / F_0$. Lets explain what this mean. First we will plot the original trace with the baseline"
   ]
  },
  {
   "cell_type": "code",
   "execution_count": null,
   "id": "25c9c42b",
   "metadata": {},
   "outputs": [],
   "source": [
    "fig, ax = plt.subplots()\n",
    "ax.plot(trace.t, trace.original_y, label=\"original trace\")\n",
    "ax.plot(trace.t, trace.background, label=\"background\")\n",
    "ax.legend()"
   ]
  },
  {
   "cell_type": "markdown",
   "id": "d543ec67",
   "metadata": {},
   "source": [
    "Now, $F_0$ would be the first value in the estimated baseline"
   ]
  },
  {
   "cell_type": "code",
   "execution_count": null,
   "id": "51923481",
   "metadata": {},
   "outputs": [],
   "source": [
    "F_0 = trace.background[0]"
   ]
  },
  {
   "cell_type": "markdown",
   "id": "43bbc5c3",
   "metadata": {},
   "source": [
    "and $\\Delta F$ would be the original trace minus the baseline"
   ]
  },
  {
   "cell_type": "code",
   "execution_count": null,
   "id": "aeb4fa8b",
   "metadata": {},
   "outputs": [],
   "source": [
    "delta_F = trace.original_y - trace.background"
   ]
  },
  {
   "cell_type": "code",
   "execution_count": null,
   "id": "0ddaa3db",
   "metadata": {},
   "outputs": [],
   "source": [
    "fig, ax = plt.subplots()\n",
    "ax.plot(trace.t, delta_F / F_0)"
   ]
  },
  {
   "cell_type": "markdown",
   "id": "d42f7754",
   "metadata": {},
   "source": [
    "### Exercise: Other types of background corrections\n",
    "TBW"
   ]
  },
  {
   "cell_type": "markdown",
   "id": "fd8f1a75",
   "metadata": {},
   "source": [
    "## Chopping a trace into individual beats\n",
    "\n",
    "We have now a trace that we can work with, but in order to compute features such as action potential durations, we need to chop the trace into individual beats. With the `ap_features` package, this is pretty easy"
   ]
  },
  {
   "cell_type": "code",
   "execution_count": null,
   "id": "722cd179",
   "metadata": {},
   "outputs": [],
   "source": [
    "beats = trace.beats\n",
    "\n",
    "print(f\"{beats = }\")"
   ]
  },
  {
   "cell_type": "markdown",
   "id": "fa521eca",
   "metadata": {},
   "source": [
    "Lets loop over all the beats and plot then with different colors"
   ]
  },
  {
   "cell_type": "code",
   "execution_count": null,
   "id": "874b9350",
   "metadata": {},
   "outputs": [],
   "source": [
    "fig, ax = plt.subplots()\n",
    "for beat in beats:\n",
    "    ax.plot(beat.t, beat.y)"
   ]
  },
  {
   "cell_type": "markdown",
   "id": "00cfe335",
   "metadata": {},
   "source": [
    "As we can see, there are some gaps in the trace. This is due to the way the trace is chopped. There are two different algorithms for chopping the trace into individual beats. The first algorithm is used when we have pacing information available, in which case the algorthim will use the time of the pacing stimuls as a marker to chop. In this case we do not have this information and in this case the algorithm is a bit more complicated. You can read more about the algorithm in the `ap_features` documentation: https://computationalphysiology.github.io/ap_features/ap_features.html#ap_features.chopping.chop_data_without_pacing\n",
    "\n",
    "\n",
    "### Exercise: Changing the settings for chopping\n",
    "\n",
    "You might not be completely satisfied with the way the trace was chopped, and there are several options to chop the data into beats. When you create the trace you can also specify a set of options for chopping using the `chopping_options` argument, e.g"
   ]
  },
  {
   "cell_type": "code",
   "execution_count": null,
   "id": "92a012c3",
   "metadata": {},
   "outputs": [],
   "source": [
    "fig, ax = plt.subplots()\n",
    "trace = apf.Beats(\n",
    "    y=y,\n",
    "    t=data.time_stamps,\n",
    "    background_correction_method=\"full\",\n",
    "    chopping_options={\"threshold_factor\": 0.3, \"extend_end\": 300, \"extend_front\": 100},\n",
    ")\n",
    "for beat in trace.beats:\n",
    "    ax.plot(beat.t, beat.y)"
   ]
  },
  {
   "cell_type": "markdown",
   "id": "4d4a796d",
   "metadata": {},
   "source": [
    "* Try to change the options for chopping, and see how it affects the results"
   ]
  },
  {
   "cell_type": "code",
   "execution_count": null,
   "id": "3965cc04",
   "metadata": {},
   "outputs": [],
   "source": [
    "# Use these beats instead\n",
    "beats = trace.beats"
   ]
  },
  {
   "cell_type": "markdown",
   "id": "4e55ab0a",
   "metadata": {},
   "source": [
    "## Analyzing a single beat\n",
    "\n",
    "Lets take a look at the second beat (since the first beats seems to still have some problems with the baseline)"
   ]
  },
  {
   "cell_type": "code",
   "execution_count": null,
   "id": "10be7e4b",
   "metadata": {},
   "outputs": [],
   "source": [
    "second_beat = beats[1]\n",
    "print(f\"{second_beat = }\")"
   ]
  },
  {
   "cell_type": "markdown",
   "id": "3b81b8ce",
   "metadata": {},
   "source": [
    "We can plot it"
   ]
  },
  {
   "cell_type": "code",
   "execution_count": null,
   "id": "8ef6262f",
   "metadata": {},
   "outputs": [],
   "source": [
    "second_beat.plot()"
   ]
  },
  {
   "cell_type": "markdown",
   "id": "3ab0b325",
   "metadata": {},
   "source": [
    "Lets aslo take a look at the available methods by print the attributes that does not start with and underscore (or by typing `second_beat.` and hitting TAB)"
   ]
  },
  {
   "cell_type": "code",
   "execution_count": null,
   "id": "76fa49c5",
   "metadata": {},
   "outputs": [],
   "source": [
    "import pprint"
   ]
  },
  {
   "cell_type": "code",
   "execution_count": null,
   "id": "b76a2b51",
   "metadata": {},
   "outputs": [],
   "source": [
    "pprint.pprint([attr for attr in dir(second_beat) if not attr.startswith(\"_\")])"
   ]
  },
  {
   "cell_type": "markdown",
   "id": "868aa409",
   "metadata": {},
   "source": [
    "### APD80"
   ]
  },
  {
   "cell_type": "markdown",
   "id": "f09f669c",
   "metadata": {},
   "source": [
    "You will see that there are quite a lot of options here. For example to compute the APD80 you can do"
   ]
  },
  {
   "cell_type": "code",
   "execution_count": null,
   "id": "b3906043",
   "metadata": {},
   "outputs": [],
   "source": [
    "APD80 = second_beat.apd(80)\n",
    "print(f\"{APD80 = :.2f} ms\")  # Also specify that we only want two decimals"
   ]
  },
  {
   "cell_type": "markdown",
   "id": "a984cfd2",
   "metadata": {},
   "source": [
    "If you want to know how the APD80 was computed, you can use the `apd_point` method which will return the first and second time point that intersects the APD80 line"
   ]
  },
  {
   "cell_type": "code",
   "execution_count": null,
   "id": "1ee5ef35",
   "metadata": {},
   "outputs": [],
   "source": [
    "APD80_point = second_beat.apd_point(80)\n",
    "print(f\"{APD80_point = }\")"
   ]
  },
  {
   "cell_type": "markdown",
   "id": "8e044ad2",
   "metadata": {},
   "source": [
    "And to get the APD80 value, you just subtract these numbers"
   ]
  },
  {
   "cell_type": "code",
   "execution_count": null,
   "id": "2062b556",
   "metadata": {},
   "outputs": [],
   "source": [
    "print(f\"{APD80_point[1] - APD80_point[0] = :.2f}\")"
   ]
  },
  {
   "cell_type": "markdown",
   "id": "cbae96e6",
   "metadata": {},
   "source": [
    "#### Exercise: APD80 for each beat\n",
    "\n",
    "- Try to compute the APD80 for each beat. Do you need any big differences?"
   ]
  },
  {
   "cell_type": "markdown",
   "id": "06f6d2b8",
   "metadata": {},
   "source": [
    "### Corrected APD80 (cAPD80)\n",
    "\n",
    "Another important feature is the corrected APD80, which is the APD80 value corrected for the beat rate. You can read more about the corrected apd here: https://computationalphysiology.github.io/ap_features/ap_features.html#ap_features.features.corrected_apd\n",
    "\n",
    "When computing the corrected APD you also need to know the beat rate, but this information can not be computed from a single beat - we need the entire trace. However, when chopping the trace into beats, all the beats also get a pointer to the parent trace that is stored in the attribute `parent`"
   ]
  },
  {
   "cell_type": "code",
   "execution_count": null,
   "id": "f7d6d81a",
   "metadata": {},
   "outputs": [],
   "source": [
    "second_beat.parent is trace"
   ]
  },
  {
   "cell_type": "markdown",
   "id": "6703e88b",
   "metadata": {},
   "source": [
    "And the trace has an attribute called `beat_rate`"
   ]
  },
  {
   "cell_type": "code",
   "execution_count": null,
   "id": "1f029b20",
   "metadata": {},
   "outputs": [],
   "source": [
    "trace.beat_rate"
   ]
  },
  {
   "cell_type": "markdown",
   "id": "18ee3d78",
   "metadata": {},
   "source": [
    "This will use the peak of each beat, and find the duration between each peak. The value stored in `trace.beat_rate` is the mean value of all of these beat rates. So see all the beat rates you can use the `.beat_rates` attribute"
   ]
  },
  {
   "cell_type": "code",
   "execution_count": null,
   "id": "aeee0eb4",
   "metadata": {},
   "outputs": [],
   "source": [
    "trace.beat_rates"
   ]
  },
  {
   "cell_type": "markdown",
   "id": "998e5388",
   "metadata": {},
   "source": [
    "A related concept is the beating frequency which each\n",
    "\n",
    "$$ \\text{beating frequency} = \\frac{\\text{beat rate}}{60}$$"
   ]
  },
  {
   "cell_type": "code",
   "execution_count": null,
   "id": "49e4cd1b",
   "metadata": {},
   "outputs": [],
   "source": [
    "trace.beating_frequency"
   ]
  },
  {
   "cell_type": "markdown",
   "id": "b3df1a95",
   "metadata": {},
   "source": [
    "And similarly we also have the individual beating frequencies"
   ]
  },
  {
   "cell_type": "code",
   "execution_count": null,
   "id": "1f839520",
   "metadata": {},
   "outputs": [],
   "source": [
    "trace.beating_frequencies"
   ]
  },
  {
   "cell_type": "markdown",
   "id": "3d3e96a4",
   "metadata": {},
   "source": [
    "Coming back to the corrected APD, we can compute this as a method each beat"
   ]
  },
  {
   "cell_type": "code",
   "execution_count": null,
   "id": "672e1372",
   "metadata": {},
   "outputs": [],
   "source": [
    "cAPD80 = second_beat.capd(80, formula=\"friderica\")\n",
    "print(f\"{cAPD80 = }\")"
   ]
  },
  {
   "cell_type": "markdown",
   "id": "b59d8e9b",
   "metadata": {},
   "source": [
    "There are two formulas implemented for computing the corrected APD, the `friderica` formula and `bazett` check out the documentation for more info"
   ]
  },
  {
   "cell_type": "markdown",
   "id": "946aa11a",
   "metadata": {},
   "source": [
    "### Exercise: Compute other features\n",
    "\n",
    "There are plenty of other features that you can compute. Check of the following methods\n",
    "\n",
    "* `tau`\n",
    "* `triangulation`\n",
    "* `ttp`\n",
    "* `upstroke`\n",
    "* `integrate_apd`\n",
    "* `maximum_relative_upstroke_velocity`\n",
    "* `maximum_upstroke_velocity`\n",
    "* `apd_up_xy`\n",
    "* `detect_ead`\n",
    "\n",
    "Look up the documentation and try to understand what these features are and try to see it the values you get make sense.\n"
   ]
  }
 ],
 "metadata": {
  "kernelspec": {
   "display_name": "Python 3 (ipykernel)",
   "language": "python",
   "name": "python3"
  }
 },
 "nbformat": 4,
 "nbformat_minor": 5
}
