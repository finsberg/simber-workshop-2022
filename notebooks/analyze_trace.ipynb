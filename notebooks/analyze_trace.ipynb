{
 "cells": [
  {
   "cell_type": "markdown",
   "id": "e481a132",
   "metadata": {},
   "source": [
    "# Extracting a trace from the frames and analyze it\n",
    "\n",
    "In this session we will learn how go from the raw images to a trace that we later will analyze. First lets load some data"
   ]
  },
  {
   "cell_type": "code",
   "execution_count": null,
   "id": "1b28392c",
   "metadata": {},
   "outputs": [],
   "source": [
    "import mps\n",
    "\n",
    "path = \"/Users/finsberg/Dropbox/Simber/data/20220105_omecamtiv_chipB/control_10850/20220105-80GCaMP20HCF-omecamtiv_Stream_B01_s1_FITC-PS-Stream.tif\"\n",
    "data = mps.MPS(path)"
   ]
  },
  {
   "cell_type": "markdown",
   "id": "820efbd7",
   "metadata": {},
   "source": [
    "Now lets take a look at the info and the shape of the frames"
   ]
  },
  {
   "cell_type": "code",
   "execution_count": null,
   "id": "327126cc",
   "metadata": {},
   "outputs": [],
   "source": [
    "print(f\"{data.frames.shape = }\")\n",
    "print(f\"{data.info = }\")"
   ]
  },
  {
   "cell_type": "markdown",
   "id": "b37043e7",
   "metadata": {},
   "source": [
    "## Plotting the first frame\n",
    "\n",
    "We note that the first and second dimension are spatial and the third dimension is temporal. This means that if we want to get the first frame, then we can access this by selecting all of the two first indices (using the `:` notation for slicing numpy arrays) and selecting the `0` index in the temporal dimension"
   ]
  },
  {
   "cell_type": "code",
   "execution_count": null,
   "id": "69af088d",
   "metadata": {},
   "outputs": [],
   "source": [
    "first_frame = data.frames[:, :, 0]"
   ]
  },
  {
   "cell_type": "markdown",
   "id": "df0cab3d",
   "metadata": {},
   "source": [
    "Lets plot the first frame using `matplotlib`"
   ]
  },
  {
   "cell_type": "code",
   "execution_count": null,
   "id": "c0e7a078",
   "metadata": {},
   "outputs": [],
   "source": [
    "import matplotlib.pyplot as plt\n",
    "\n",
    "fig, ax = plt.subplots(figsize=(6, 10))\n",
    "ax.imshow(first_frame)\n",
    "ax.set_title(\"First frame\")"
   ]
  },
  {
   "cell_type": "markdown",
   "id": "11b3b850",
   "metadata": {},
   "source": [
    "We can also rotate the image 90 degrees by transposing the frame using the `.T` method on the array"
   ]
  },
  {
   "cell_type": "code",
   "execution_count": null,
   "id": "63811a75",
   "metadata": {},
   "outputs": [],
   "source": [
    "fig, ax = plt.subplots(figsize=(10, 6))\n",
    "ax.imshow(first_frame.T)\n",
    "ax.set_title(\"First frame (transposed)\")"
   ]
  },
  {
   "cell_type": "markdown",
   "id": "6d2e9eef",
   "metadata": {},
   "source": [
    "## Computing an average trace\n",
    "\n",
    "In order to get to a trace, we need to reduce each frame into a number so that we end up with an array of values for each time stamp. One way to do this is to average over the entire chip. For the first frame we can do this as follows"
   ]
  },
  {
   "cell_type": "code",
   "execution_count": null,
   "id": "e42d353b",
   "metadata": {},
   "outputs": [],
   "source": [
    "first_frame_mean_value = first_frame.mean()\n",
    "print(f\"{first_frame_mean_value = }\")"
   ]
  },
  {
   "cell_type": "markdown",
   "id": "87ff42a9",
   "metadata": {},
   "source": [
    "Now we would like to do this for each frame in `data.frames`. We could do this using a *for loop*, however, this will be quite inefficient. Since `data.frames` is a numpy array we can take the mean over the first two dimensions using the following code"
   ]
  },
  {
   "cell_type": "code",
   "execution_count": null,
   "id": "6887f4f2",
   "metadata": {},
   "outputs": [],
   "source": [
    "y = data.frames.mean(axis=(0, 1))"
   ]
  },
  {
   "cell_type": "markdown",
   "id": "afa6e57e",
   "metadata": {},
   "source": [
    "Here we pass in `axis=(0, 1)` to indicate that we should take the average over the first and second dimension.\n",
    "\n",
    "Lets plot the trace againts the time stamps."
   ]
  },
  {
   "cell_type": "code",
   "execution_count": null,
   "id": "b1308f8a",
   "metadata": {},
   "outputs": [],
   "source": [
    "fig, ax = plt.subplots(figsize=(8, 4))\n",
    "ax.plot(data.time_stamps, y)\n",
    "ax.grid()\n",
    "ax.set_xlabel(\"Time [ms]\")\n",
    "ax.set_ylabel(\"Mean pixel intensity\")"
   ]
  },
  {
   "cell_type": "markdown",
   "id": "9159923e",
   "metadata": {},
   "source": [
    "Note the following:\n",
    "\n",
    "* The $y$-axis here is *mean pixel intensity*.\n",
    "    - These values are not in general related to the physical unit of the trace (i.e calcium concentration or voltage)\n",
    "    - This means that we cannot use features related to the magnitude of the trace, such as max and min values, but temporal values are valid\n",
    "* The baseline is drifting (decaying as a function of time).\n",
    "    - This due to photobleaching and we need to correct for this"
   ]
  },
  {
   "cell_type": "markdown",
   "id": "e154f714",
   "metadata": {},
   "source": [
    "### Exercise: Selecting a subset of the pixels for extracting an average trace\n",
    "\n",
    "In the above code we used all the pixels to compute the average however you could image that you only wanted to use the pixels where the tissue is, or even a smaller region. You can do this be finding the indices in the $x$ and $y$-direction. For example\n",
    "\n",
    "```python\n",
    "data.frames[400:600, 50:150, :]\n",
    "```\n",
    "will take out a region in (approximately) the center of the chip.\n",
    "\n",
    "* Try to perform the averaging over a smaller region, and plot the trace. Does the shape and amplitude chage?"
   ]
  },
  {
   "cell_type": "markdown",
   "id": "cd72ba7c",
   "metadata": {},
   "source": [
    "## Removing the baseline\n",
    "\n",
    "The first thing we need to do is to remove the baseline so that the effect of photobleaching is removed. To do this we will use the `ap_feaures` package, by converting the trace into a `ap_features` object."
   ]
  },
  {
   "cell_type": "code",
   "execution_count": null,
   "id": "59b67925",
   "metadata": {},
   "outputs": [],
   "source": [
    "import ap_features as apf\n",
    "\n",
    "trace = apf.Beats(y=y, t=data.time_stamps)"
   ]
  },
  {
   "cell_type": "code",
   "execution_count": null,
   "id": "44df4e55",
   "metadata": {},
   "outputs": [],
   "source": [
    "trace.plot()"
   ]
  },
  {
   "cell_type": "markdown",
   "id": "70251ab9",
   "metadata": {},
   "source": [
    "Well, this looks very similar to what we had before. When constructing this object we can also pass in another argument called `background_correction_method`."
   ]
  },
  {
   "cell_type": "code",
   "execution_count": null,
   "id": "bcc1f189",
   "metadata": {},
   "outputs": [],
   "source": [
    "trace = apf.Beats(y=y, t=data.time_stamps, background_correction_method=\"full\")\n",
    "trace.plot()"
   ]
  },
  {
   "cell_type": "markdown",
   "id": "a23fa040",
   "metadata": {},
   "source": [
    "We now now see that the background is removed, and that the $y$-axis got different values. The correct label for the label would be $\\Delta F / F_0$. Lets explain what this mean. First we will plot the original trace with the baseline"
   ]
  },
  {
   "cell_type": "code",
   "execution_count": null,
   "id": "af395003",
   "metadata": {},
   "outputs": [],
   "source": [
    "fig, ax = plt.subplots()\n",
    "ax.plot(trace.t, trace.original_y, label=\"original trace\")\n",
    "ax.plot(trace.t, trace.background, label=\"background\")\n",
    "ax.legend()"
   ]
  },
  {
   "cell_type": "markdown",
   "id": "fee700bb",
   "metadata": {},
   "source": [
    "Now, $F_0$ would be the first value in the estimated baseline"
   ]
  },
  {
   "cell_type": "code",
   "execution_count": null,
   "id": "7f471aef",
   "metadata": {},
   "outputs": [],
   "source": [
    "F_0 = trace.background[0]"
   ]
  },
  {
   "cell_type": "markdown",
   "id": "017d3674",
   "metadata": {},
   "source": [
    "and $\\Delta F$ would be the original trace minus the baseline"
   ]
  },
  {
   "cell_type": "code",
   "execution_count": null,
   "id": "41f2d54e",
   "metadata": {},
   "outputs": [],
   "source": [
    "delta_F = trace.original_y - trace.background"
   ]
  },
  {
   "cell_type": "code",
   "execution_count": null,
   "id": "91935508",
   "metadata": {},
   "outputs": [],
   "source": [
    "fig, ax = plt.subplots()\n",
    "ax.plot(trace.t, delta_F / F_0)"
   ]
  },
  {
   "cell_type": "markdown",
   "id": "10d89dfd",
   "metadata": {},
   "source": [
    "### Exercise: Other types of background corrections\n",
    "TBW"
   ]
  },
  {
   "cell_type": "markdown",
   "id": "abe0b9b6",
   "metadata": {},
   "source": [
    "## Chopping a trace into individual beats\n",
    "\n",
    "We have now a trace that we can work with, but in order to compute features such as action potential durations, we need to chop the trace into individual beats. With the `ap_features` package, this is pretty easy"
   ]
  },
  {
   "cell_type": "code",
   "execution_count": null,
   "id": "14793858",
   "metadata": {},
   "outputs": [],
   "source": [
    "beats = trace.beats\n",
    "\n",
    "print(f\"{beats = }\")"
   ]
  },
  {
   "cell_type": "markdown",
   "id": "97bbfb27",
   "metadata": {},
   "source": [
    "Lets loop over all the beats and plot then with different colors"
   ]
  },
  {
   "cell_type": "code",
   "execution_count": null,
   "id": "d7bb30e7",
   "metadata": {},
   "outputs": [],
   "source": [
    "fig, ax = plt.subplots()\n",
    "for beat in beats:\n",
    "    ax.plot(beat.t, beat.y)"
   ]
  },
  {
   "cell_type": "markdown",
   "id": "86f1bbf5",
   "metadata": {},
   "source": [
    "As we can see, there are some gaps in the trace. This is due to the way the trace is chopped. There are two different algorithms for chopping the trace into individual beats. The first algorithm is used when we have pacing information available, in which case the algorthim will use the time of the pacing stimuls as a marker to chop. In this case we do not have this information and in this case the algorithm is a bit more complicated. You can read more about the algorithm in the `ap_features` documentation: https://computationalphysiology.github.io/ap_features/ap_features.html#ap_features.chopping.chop_data_without_pacing\n",
    "\n",
    "\n",
    "### Exercise: Changing the settings for chopping\n",
    "\n",
    "You might not be completely satisfied with the way the trace was chopped, and there are several options to chop the data into beats. When you create the trace you can also specify a set of options for chopping using the `chopping_options` argument, e.g"
   ]
  },
  {
   "cell_type": "code",
   "execution_count": null,
   "id": "afbdbfba",
   "metadata": {},
   "outputs": [],
   "source": [
    "fig, ax = plt.subplots()\n",
    "trace = apf.Beats(\n",
    "    y=y,\n",
    "    t=data.time_stamps,\n",
    "    background_correction_method=\"full\",\n",
    "    chopping_options={\"threshold_factor\": 0.3, \"extend_end\": 300, \"extend_front\": 100},\n",
    ")\n",
    "for beat in trace.beats:\n",
    "    ax.plot(beat.t, beat.y)"
   ]
  },
  {
   "cell_type": "markdown",
   "id": "c77f965c",
   "metadata": {},
   "source": [
    "* Try to change the options for chopping, and see how it affects the results"
   ]
  },
  {
   "cell_type": "code",
   "execution_count": null,
   "id": "f26adb90",
   "metadata": {},
   "outputs": [],
   "source": [
    "# Use these beats instead\n",
    "beats = trace.beats"
   ]
  },
  {
   "cell_type": "markdown",
   "id": "a8ac1697",
   "metadata": {},
   "source": [
    "## Analyzing a single beat\n",
    "\n",
    "Lets take a look at the second beat (since the first beats seems to still have some problems with the baseline)"
   ]
  },
  {
   "cell_type": "code",
   "execution_count": null,
   "id": "11ccbf26",
   "metadata": {},
   "outputs": [],
   "source": [
    "second_beat = beats[1]\n",
    "print(f\"{second_beat = }\")"
   ]
  },
  {
   "cell_type": "markdown",
   "id": "6e99e4f3",
   "metadata": {},
   "source": [
    "We can plot it"
   ]
  },
  {
   "cell_type": "code",
   "execution_count": null,
   "id": "37cc1c00",
   "metadata": {},
   "outputs": [],
   "source": [
    "second_beat.plot()"
   ]
  },
  {
   "cell_type": "markdown",
   "id": "be86e93d",
   "metadata": {},
   "source": [
    "Lets aslo take a look at the available methods by print the attributes that does not start with and underscore (or by typing `second_beat.` and hitting TAB)"
   ]
  },
  {
   "cell_type": "code",
   "execution_count": null,
   "id": "251cc48f",
   "metadata": {},
   "outputs": [],
   "source": [
    "import pprint"
   ]
  },
  {
   "cell_type": "code",
   "execution_count": null,
   "id": "440e2504",
   "metadata": {},
   "outputs": [],
   "source": [
    "pprint.pprint([attr for attr in dir(second_beat) if not attr.startswith(\"_\")])"
   ]
  },
  {
   "cell_type": "markdown",
   "id": "2a84a665",
   "metadata": {},
   "source": [
    "### APD80"
   ]
  },
  {
   "cell_type": "markdown",
   "id": "c949a4a2",
   "metadata": {},
   "source": [
    "You will see that there are quite a lot of options here. For example to compute the APD80 you can do"
   ]
  },
  {
   "cell_type": "code",
   "execution_count": null,
   "id": "94c2db41",
   "metadata": {},
   "outputs": [],
   "source": [
    "APD80 = second_beat.apd(80)\n",
    "print(f\"{APD80 = :.2f} ms\")  # Also specify that we only want two decimals"
   ]
  },
  {
   "cell_type": "markdown",
   "id": "8e8f11ec",
   "metadata": {},
   "source": [
    "If you want to know how the APD80 was computed, you can use the `apd_point` method which will return the first and second time point that intersects the APD80 line"
   ]
  },
  {
   "cell_type": "code",
   "execution_count": null,
   "id": "9ba5a703",
   "metadata": {},
   "outputs": [],
   "source": [
    "APD80_point = second_beat.apd_point(80)\n",
    "print(f\"{APD80_point = }\")"
   ]
  },
  {
   "cell_type": "markdown",
   "id": "63f0ab85",
   "metadata": {},
   "source": [
    "And to get the APD80 value, you just subtract these numbers"
   ]
  },
  {
   "cell_type": "code",
   "execution_count": null,
   "id": "ec24aff9",
   "metadata": {},
   "outputs": [],
   "source": [
    "print(f\"{APD80_point[1] - APD80_point[0] = :.2f}\")"
   ]
  },
  {
   "cell_type": "markdown",
   "id": "7428fb52",
   "metadata": {},
   "source": [
    "#### Exercise: APD80 for each beat\n",
    "\n",
    "- Try to compute the APD80 for each beat. Do you need any big differences?"
   ]
  },
  {
   "cell_type": "markdown",
   "id": "015fcc4f",
   "metadata": {},
   "source": [
    "### Corrected APD80 (cAPD80)\n",
    "\n",
    "Another important feature is the corrected APD80, which is the APD80 value corrected for the beat rate. You can read more about the corrected apd here: https://computationalphysiology.github.io/ap_features/ap_features.html#ap_features.features.corrected_apd\n",
    "\n",
    "When computing the corrected APD you also need to know the beat rate, but this information can not be computed from a single beat - we need the entire trace. However, when chopping the trace into beats, all the beats also get a pointer to the parent trace that is stored in the attribute `parent`"
   ]
  },
  {
   "cell_type": "code",
   "execution_count": null,
   "id": "6c58b76b",
   "metadata": {},
   "outputs": [],
   "source": [
    "second_beat.parent is trace"
   ]
  },
  {
   "cell_type": "markdown",
   "id": "a0801c92",
   "metadata": {},
   "source": [
    "And the trace has an attribute called `beat_rate`"
   ]
  },
  {
   "cell_type": "code",
   "execution_count": null,
   "id": "bb37675f",
   "metadata": {},
   "outputs": [],
   "source": [
    "trace.beat_rate"
   ]
  },
  {
   "cell_type": "markdown",
   "id": "2d877110",
   "metadata": {},
   "source": [
    "This will use the peak of each beat, and find the duration between each peak. The value stored in `trace.beat_rate` is the mean value of all of these beat rates. So see all the beat rates you can use the `.beat_rates` attribute"
   ]
  },
  {
   "cell_type": "code",
   "execution_count": null,
   "id": "414e1201",
   "metadata": {},
   "outputs": [],
   "source": [
    "trace.beat_rates"
   ]
  },
  {
   "cell_type": "markdown",
   "id": "bc6470dc",
   "metadata": {},
   "source": [
    "A related concept is the beating frequency which each\n",
    "\n",
    "$$ \\text{beating frequency} = \\frac{\\text{beat rate}}{60}$$"
   ]
  },
  {
   "cell_type": "code",
   "execution_count": null,
   "id": "11839375",
   "metadata": {},
   "outputs": [],
   "source": [
    "trace.beating_frequency"
   ]
  },
  {
   "cell_type": "markdown",
   "id": "2273cefa",
   "metadata": {},
   "source": [
    "And similarly we also have the individual beating frequencies"
   ]
  },
  {
   "cell_type": "code",
   "execution_count": null,
   "id": "7d002c24",
   "metadata": {},
   "outputs": [],
   "source": [
    "trace.beating_frequencies"
   ]
  },
  {
   "cell_type": "markdown",
   "id": "ef35bed3",
   "metadata": {},
   "source": [
    "Coming back to the corrected APD, we can compute this as a method each beat"
   ]
  },
  {
   "cell_type": "code",
   "execution_count": null,
   "id": "dbd807a4",
   "metadata": {},
   "outputs": [],
   "source": [
    "cAPD80 = second_beat.capd(80, formula=\"friderica\")\n",
    "print(f\"{cAPD80 = }\")"
   ]
  },
  {
   "cell_type": "markdown",
   "id": "12d2a906",
   "metadata": {},
   "source": [
    "There are two formulas implemented for computing the corrected APD, the `friderica` formula and `bazett` check out the documentation for more info"
   ]
  },
  {
   "cell_type": "markdown",
   "id": "e2d30622",
   "metadata": {},
   "source": [
    "### Exercise: Compute other features\n",
    "\n",
    "There are plenty of other features that you can compute. Check of the following methods\n",
    "\n",
    "* `tau`\n",
    "* `triangulation`\n",
    "* `ttp`\n",
    "* `upstroke`\n",
    "* `integrate_apd`\n",
    "* `maximum_relative_upstroke_velocity`\n",
    "* `maximum_upstroke_velocity`\n",
    "* `apd_up_xy`\n",
    "* `detect_ead`\n",
    "\n",
    "Look up the documentation and try to understand what these features are and try to see it the values you get make sense.\n"
   ]
  },
  {
   "cell_type": "markdown",
   "id": "4f2e22da",
   "metadata": {},
   "source": [
    "## Extracting traces from subregions of the chip\n",
    "\n",
    "Now we will briefly discuss how to automatically extract traces from different regions of the chip. In the next session you will get a more thorough explanation on how to do this.\n",
    "\n",
    "For reference, let us plot the first frame from the data"
   ]
  },
  {
   "cell_type": "code",
   "execution_count": null,
   "id": "822dbbb2",
   "metadata": {},
   "outputs": [],
   "source": [
    "fig, ax = plt.subplots(figsize=(15, 4))\n",
    "plt.imshow(data.frames[:, :, 0].T)\n",
    "print(data.frames.shape)"
   ]
  },
  {
   "cell_type": "markdown",
   "id": "90472cd5",
   "metadata": {},
   "source": [
    "Now we will use a methods from the mps package to extract averages from different subregions."
   ]
  },
  {
   "cell_type": "code",
   "execution_count": null,
   "id": "5e6fdc9e",
   "metadata": {},
   "outputs": [],
   "source": [
    "loc = mps.analysis.local_averages(\n",
    "    data.frames, times=data.time_stamps, N=15, background_correction=True\n",
    ")"
   ]
  },
  {
   "cell_type": "markdown",
   "id": "765fe2f1",
   "metadata": {},
   "source": [
    "We specify some number `N` (here we chose 15) which will be the number of regions along the major axis of the chip. The algorithm will then subdivide the chip into squares (i.e width equal height and width) and choose the number of regions along the minor axis such that the regions cover the chip.\n",
    "\n",
    "We can take a look at the shape of this array"
   ]
  },
  {
   "cell_type": "code",
   "execution_count": null,
   "id": "7549a4e1",
   "metadata": {},
   "outputs": [],
   "source": [
    "print(loc.shape)"
   ]
  },
  {
   "cell_type": "markdown",
   "id": "6d437a9e",
   "metadata": {},
   "source": [
    "The last dimension will be the number of time steps.\n",
    "\n",
    "We can plot all the traces at their spatial location in a large subplot as follow"
   ]
  },
  {
   "cell_type": "code",
   "execution_count": null,
   "id": "bc95a5d0",
   "metadata": {},
   "outputs": [],
   "source": [
    "fig, ax = plt.subplots(\n",
    "    loc.shape[1], loc.shape[0], sharex=True, sharey=True, figsize=(15, 6)\n",
    ")\n",
    "for i in range(loc.shape[0]):\n",
    "    for j in range(loc.shape[1]):\n",
    "        ax[j, i].plot(data.time_stamps, loc[i, j, :])\n",
    "plt.show()"
   ]
  },
  {
   "cell_type": "markdown",
   "id": "cc607cf4",
   "metadata": {},
   "source": [
    "Or we can plot them all in the same plot (here we just plot the mid regions"
   ]
  },
  {
   "cell_type": "code",
   "execution_count": null,
   "id": "1bfa900b",
   "metadata": {},
   "outputs": [],
   "source": [
    "fig, ax = plt.subplots(figsize=(15, 8))\n",
    "for i in range(loc.shape[0]):\n",
    "    ax.plot(data.time_stamps, loc[i, 1], label=f\"region {i}\")\n",
    "ax.legend(bbox_to_anchor=(1, 0.5), loc=\"center left\")\n",
    "plt.show()"
   ]
  }
 ],
 "metadata": {
  "jupytext": {
   "cell_metadata_filter": "-all",
   "main_language": "python",
   "notebook_metadata_filter": "-all"
  }
 },
 "nbformat": 4,
 "nbformat_minor": 5
}
