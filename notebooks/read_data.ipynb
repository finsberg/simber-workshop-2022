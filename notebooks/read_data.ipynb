{
 "cells": [
  {
   "cell_type": "markdown",
   "id": "04ffa650",
   "metadata": {},
   "source": [
    "# Reading a recording using the `mps` package\n",
    "\n",
    "In this demo we will learn how to open a file an printing some basic info about the recording.\n",
    "\n",
    "First thing we need to do is to import the mps library"
   ]
  },
  {
   "cell_type": "code",
   "execution_count": null,
   "id": "1627022b",
   "metadata": {},
   "outputs": [],
   "source": [
    "import mps"
   ]
  },
  {
   "cell_type": "markdown",
   "id": "ad606185",
   "metadata": {},
   "source": [
    "Next thing we need to do is to specify the path to the file we want to open. Change the string below to the path to the file you want to open.\n",
    "\n",
    "Note that the path separator is different on Windows and Unix (Linux/Mac). If you are on Windows, the path will typically by something like `C:\\Users\\Henrik\\Documents\\file.tif` (i.e with `\\` as separator), while on Unix the path will be similar to the example below."
   ]
  },
  {
   "cell_type": "code",
   "execution_count": null,
   "id": "8bb7ad4f",
   "metadata": {},
   "outputs": [],
   "source": [
    "path = \"/Users/finsberg/Dropbox/Simber/data/20220105_omecamtiv_chipB/control_10850/20220105-80GCaMP20HCF-omecamtiv_Stream_B01_s1_TL-20-Stream.tif\""
   ]
  },
  {
   "cell_type": "markdown",
   "id": "5c84f739",
   "metadata": {},
   "source": [
    "The `mps` pacakge can read various file formats including `.tif`, `.stk`, `.nd2` and `.czi`.\n",
    "\n",
    "Now let us load the data by passing the path the `mps.MPS` object"
   ]
  },
  {
   "cell_type": "code",
   "execution_count": null,
   "id": "0b855927",
   "metadata": {},
   "outputs": [],
   "source": [
    "data = mps.MPS(path)"
   ]
  },
  {
   "cell_type": "markdown",
   "id": "e892f610",
   "metadata": {},
   "source": [
    "This will create an object the allow us to read the recording as well as metadata stored within the file.\n",
    "\n",
    "Lets print the data object"
   ]
  },
  {
   "cell_type": "code",
   "execution_count": null,
   "id": "606bb8c4",
   "metadata": {},
   "outputs": [],
   "source": [
    "print(\"data = \", data)"
   ]
  },
  {
   "cell_type": "markdown",
   "id": "b51ad3c4",
   "metadata": {},
   "source": [
    "We can aslo use a bit more convenient way to print this in python using f-strings"
   ]
  },
  {
   "cell_type": "code",
   "execution_count": null,
   "id": "b64456b4",
   "metadata": {},
   "outputs": [],
   "source": [
    "print(f\"{data = }\")"
   ]
  },
  {
   "cell_type": "markdown",
   "id": "2bf69bc8",
   "metadata": {},
   "source": [
    "You can list the available methods on this object using the `dir` method\n",
    "And if you are working in a notebook you can also type `data.` and hit the `TAB` key."
   ]
  },
  {
   "cell_type": "code",
   "execution_count": null,
   "id": "8fc80f15",
   "metadata": {},
   "outputs": [],
   "source": [
    "print(f\"{dir(data) = }\")"
   ]
  },
  {
   "cell_type": "markdown",
   "id": "70d23bbb",
   "metadata": {},
   "source": [
    "Now lets print the info attribute which will list some basic info about the data"
   ]
  },
  {
   "cell_type": "code",
   "execution_count": null,
   "id": "a449dd22",
   "metadata": {},
   "outputs": [],
   "source": [
    "print(f\"{data.info = }\")"
   ]
  },
  {
   "cell_type": "markdown",
   "id": "305f1268",
   "metadata": {},
   "source": [
    "If you want a little bit nicer looking output you can also use the pretty printer in python"
   ]
  },
  {
   "cell_type": "code",
   "execution_count": null,
   "id": "94328cb8",
   "metadata": {},
   "outputs": [],
   "source": [
    "import pprint"
   ]
  },
  {
   "cell_type": "code",
   "execution_count": null,
   "id": "449ed7f6",
   "metadata": {},
   "outputs": [],
   "source": [
    "pprint.pprint(data.info)"
   ]
  },
  {
   "cell_type": "markdown",
   "id": "512dc29b",
   "metadata": {},
   "source": [
    "The actual frames are stored as the attribute `.frames`. This will be a numpy array of shape `(size_x, size_y, num_frames)`"
   ]
  },
  {
   "cell_type": "code",
   "execution_count": null,
   "id": "737a9b54",
   "metadata": {},
   "outputs": [],
   "source": [
    "print(f\"{data.frames.shape = }\")"
   ]
  },
  {
   "cell_type": "markdown",
   "id": "de291dea",
   "metadata": {},
   "source": [
    "The frames contains pixel intensities that are typically stored as 16-bits unsigned integers (uint16)"
   ]
  },
  {
   "cell_type": "code",
   "execution_count": null,
   "id": "fd174982",
   "metadata": {},
   "outputs": [],
   "source": [
    "print(f\"{data.frames = }\")"
   ]
  },
  {
   "cell_type": "markdown",
   "id": "b98aee23",
   "metadata": {},
   "source": [
    "The time stamps are stored in the attribute `time_stamps` as a numpy array of length `num_frames`"
   ]
  },
  {
   "cell_type": "code",
   "execution_count": null,
   "id": "e1b8929f",
   "metadata": {},
   "outputs": [],
   "source": [
    "print(f\"{data.time_stamps.shape = }\")"
   ]
  },
  {
   "cell_type": "code",
   "execution_count": null,
   "id": "62582f13",
   "metadata": {},
   "outputs": [],
   "source": [
    "print(f\"{data.time_stamps = }\")"
   ]
  },
  {
   "cell_type": "markdown",
   "id": "d840cae9",
   "metadata": {},
   "source": [
    "If the cells are paced then this information might be stored in the metadata of the recording. In this case this will be extracted in the attribute `pacing` which will also be a numpy array of length `num_frames`."
   ]
  },
  {
   "cell_type": "code",
   "execution_count": null,
   "id": "4fffa5ea",
   "metadata": {},
   "outputs": [],
   "source": [
    "print(f\"{data.pacing.shape = }\")"
   ]
  },
  {
   "cell_type": "code",
   "execution_count": null,
   "id": "e6793f36",
   "metadata": {},
   "outputs": [],
   "source": [
    "print(f\"{data.pacing = }\")"
   ]
  },
  {
   "cell_type": "markdown",
   "id": "68ae487f",
   "metadata": {},
   "source": [
    "If the cell is not paced, or there is no information about the pacing stored within the recording, then this array will only contain zeros."
   ]
  }
 ],
 "metadata": {
  "jupytext": {
   "cell_metadata_filter": "-all",
   "main_language": "python",
   "notebook_metadata_filter": "-all"
  }
 },
 "nbformat": 4,
 "nbformat_minor": 5
}
