{
 "cells": [
  {
   "cell_type": "markdown",
   "id": "b63ab21f",
   "metadata": {},
   "source": [
    "# Reading a recording using the `mps` package\n",
    "\n",
    "In this demo we will learn how to open a file an printing some basic info about the recording.\n",
    "\n",
    "First thing we need to do is to import the mps library"
   ]
  },
  {
   "cell_type": "code",
   "execution_count": null,
   "id": "8ebd8ea8",
   "metadata": {},
   "outputs": [],
   "source": [
    "import mps"
   ]
  },
  {
   "cell_type": "markdown",
   "id": "3ff4d45b",
   "metadata": {},
   "source": [
    "Next thing we need to do is to specify the path to the file we want to open. Change the string below to the path to the file you want to open.\n",
    "\n",
    "Note that the path separator is different on Windows and Unix (Linux/Mac). If you are on Windows, the path will typically by something like `C:\\Users\\Henrik\\Documents\\file.tif` (i.e with `\\` as separator), while on Unix the path will be similar to the example below."
   ]
  },
  {
   "cell_type": "code",
   "execution_count": null,
   "id": "3c98c536",
   "metadata": {},
   "outputs": [],
   "source": [
    "path = \"/Users/finsberg/Dropbox/Simber/data/20220105_omecamtiv_chipB/control_10850/20220105-80GCaMP20HCF-omecamtiv_Stream_B01_s1_TL-20-Stream.tif\""
   ]
  },
  {
   "cell_type": "markdown",
   "id": "6ffe1ec6",
   "metadata": {},
   "source": [
    "The `mps` pacakge can read various file formats including `.tif`, `.stk`, `.nd2` and `.czi`.\n",
    "\n",
    "Now let us load the data by passing the path the `mps.MPS` object"
   ]
  },
  {
   "cell_type": "code",
   "execution_count": null,
   "id": "0ed17443",
   "metadata": {},
   "outputs": [],
   "source": [
    "data = mps.MPS(path)"
   ]
  },
  {
   "cell_type": "markdown",
   "id": "1f173196",
   "metadata": {},
   "source": [
    "This will create an object the allow us to read the recording as well as metadata stored within the file.\n",
    "\n",
    "Lets print the data object"
   ]
  },
  {
   "cell_type": "code",
   "execution_count": null,
   "id": "f505b35e",
   "metadata": {},
   "outputs": [],
   "source": [
    "print(\"data = \", data)"
   ]
  },
  {
   "cell_type": "markdown",
   "id": "adf39d45",
   "metadata": {},
   "source": [
    "We can aslo use a bit more convenient way to print this in python using f-strings"
   ]
  },
  {
   "cell_type": "code",
   "execution_count": null,
   "id": "aeb89d88",
   "metadata": {},
   "outputs": [],
   "source": [
    "print(f\"{data = }\")"
   ]
  },
  {
   "cell_type": "markdown",
   "id": "19a408e4",
   "metadata": {},
   "source": [
    "You can list the available methods on this object using the `dir` method\n",
    "And if you are working in a notebook you can also type `data.` and hit the `TAB` key."
   ]
  },
  {
   "cell_type": "code",
   "execution_count": null,
   "id": "2bcdf3a2",
   "metadata": {},
   "outputs": [],
   "source": [
    "print(f\"{dir(data) = }\")"
   ]
  },
  {
   "cell_type": "markdown",
   "id": "5e03e13c",
   "metadata": {},
   "source": [
    "Now lets print the info attribute which will list some basic info about the data"
   ]
  },
  {
   "cell_type": "code",
   "execution_count": null,
   "id": "2db19654",
   "metadata": {},
   "outputs": [],
   "source": [
    "print(f\"{data.info = }\")"
   ]
  },
  {
   "cell_type": "markdown",
   "id": "f65f6503",
   "metadata": {},
   "source": [
    "If you want a little bit nicer looking output you can also use the pretty printer in python"
   ]
  },
  {
   "cell_type": "code",
   "execution_count": null,
   "id": "990dfa15",
   "metadata": {},
   "outputs": [],
   "source": [
    "import pprint"
   ]
  },
  {
   "cell_type": "code",
   "execution_count": null,
   "id": "ada2ff44",
   "metadata": {},
   "outputs": [],
   "source": [
    "pprint.pprint(data.info)"
   ]
  },
  {
   "cell_type": "markdown",
   "id": "ee2f061e",
   "metadata": {},
   "source": [
    "The actual frames are stored as the attribute `.frames`. This will be a numpy array of shape `(size_x, size_y, num_frames)`"
   ]
  },
  {
   "cell_type": "code",
   "execution_count": null,
   "id": "599c3b1f",
   "metadata": {},
   "outputs": [],
   "source": [
    "print(f\"{data.frames.shape = }\")"
   ]
  },
  {
   "cell_type": "markdown",
   "id": "36a4130b",
   "metadata": {},
   "source": [
    "The frames contains pixel intensities that are typically stored as 16-bits unsigned integers (uint16)"
   ]
  },
  {
   "cell_type": "code",
   "execution_count": null,
   "id": "06b66849",
   "metadata": {},
   "outputs": [],
   "source": [
    "print(f\"{data.frames = }\")"
   ]
  },
  {
   "cell_type": "markdown",
   "id": "0116397b",
   "metadata": {},
   "source": [
    "The time stamps are stored in the attribute `time_stamps` as a numpy array of length `num_frames`"
   ]
  },
  {
   "cell_type": "code",
   "execution_count": null,
   "id": "f02ae3c5",
   "metadata": {},
   "outputs": [],
   "source": [
    "print(f\"{data.time_stamps.shape = }\")"
   ]
  },
  {
   "cell_type": "code",
   "execution_count": null,
   "id": "b7324fe7",
   "metadata": {},
   "outputs": [],
   "source": [
    "print(f\"{data.time_stamps = }\")"
   ]
  },
  {
   "cell_type": "markdown",
   "id": "b684d8b1",
   "metadata": {},
   "source": [
    "If the cells are paced then this information might be stored in the metadata of the recording. In this case this will be extracted in the attribute `pacing` which will also be a numpy array of length `num_frames`."
   ]
  },
  {
   "cell_type": "code",
   "execution_count": null,
   "id": "2b68ce6a",
   "metadata": {},
   "outputs": [],
   "source": [
    "print(f\"{data.pacing.shape = }\")"
   ]
  },
  {
   "cell_type": "code",
   "execution_count": null,
   "id": "864fa1d6",
   "metadata": {},
   "outputs": [],
   "source": [
    "print(f\"{data.pacing = }\")"
   ]
  },
  {
   "cell_type": "markdown",
   "id": "d703651b",
   "metadata": {},
   "source": [
    "If the cell is not paced, or there is no information about the pacing stored within the recording, then this array will only contain zeros."
   ]
  }
 ],
 "metadata": {
  "jupytext": {
   "cell_metadata_filter": "-all",
   "main_language": "python",
   "notebook_metadata_filter": "-all"
  }
 },
 "nbformat": 4,
 "nbformat_minor": 5
}
