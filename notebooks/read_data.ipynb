{
 "cells": [
  {
   "cell_type": "markdown",
   "id": "dd7dc17d",
   "metadata": {},
   "source": [
    "# Reading a recording using the `mps` package\n",
    "\n",
    "In this demo we will learn how to open a file an printing some basic info about the recording.\n",
    "\n",
    "First thing we need to do is to import the mps library"
   ]
  },
  {
   "cell_type": "code",
   "execution_count": null,
   "id": "cc7b068f",
   "metadata": {},
   "outputs": [],
   "source": [
    "import mps"
   ]
  },
  {
   "cell_type": "markdown",
   "id": "0757b195",
   "metadata": {},
   "source": [
    "Next thing we need to do is to specify the path to the file we want to open.\n",
    "If you have already have some data you can use that (in this case change the string below to the path to the file you want to open), otherwise you can download some sample data"
   ]
  },
  {
   "cell_type": "code",
   "execution_count": null,
   "id": "75c3117b",
   "metadata": {
    "lines_to_end_of_cell_marker": 2,
    "lines_to_next_cell": 2
   },
   "outputs": [],
   "source": [
    "from pathlib import Path\n",
    "\n",
    "path = Path(\"data.tif\")"
   ]
  },
  {
   "cell_type": "code",
   "execution_count": null,
   "id": "c148bf90",
   "metadata": {},
   "outputs": [],
   "source": [
    "def download_data():\n",
    "    print(\"Downloading data. Please wait...\")\n",
    "    link = \"https://www.dropbox.com/s/gowdo5t8c78mtkh/data.tif?dl=1\"\n",
    "    import urllib.request\n",
    "    import time\n",
    "\n",
    "    urllib.request.urlretrieve(link, path)\n",
    "    time.sleep(1.0)\n",
    "    print(\"Done downloading data\")"
   ]
  },
  {
   "cell_type": "code",
   "execution_count": null,
   "id": "e01e60a2",
   "metadata": {},
   "outputs": [],
   "source": [
    "# Download the data if file does not exist\n",
    "if not path.is_file():\n",
    "    download_data()"
   ]
  },
  {
   "cell_type": "markdown",
   "id": "7260e8d5",
   "metadata": {},
   "source": [
    "The `mps` pacakge can read various file formats including `.tif`, `.stk`, `.nd2` and `.czi`.\n",
    "\n",
    "Now let us load the data by passing the path the `mps.MPS` object"
   ]
  },
  {
   "cell_type": "code",
   "execution_count": null,
   "id": "344b104f",
   "metadata": {},
   "outputs": [],
   "source": [
    "data = mps.MPS(path)"
   ]
  },
  {
   "cell_type": "markdown",
   "id": "2ccc5982",
   "metadata": {},
   "source": [
    "This will create an object the allow us to read the recording as well as metadata stored within the file.\n",
    "\n",
    "Lets print the data object"
   ]
  },
  {
   "cell_type": "code",
   "execution_count": null,
   "id": "4dab8ba4",
   "metadata": {},
   "outputs": [],
   "source": [
    "print(\"data = \", data)"
   ]
  },
  {
   "cell_type": "markdown",
   "id": "c0ebd8e2",
   "metadata": {},
   "source": [
    "We can aslo use a bit more convenient way to print this in python using f-strings"
   ]
  },
  {
   "cell_type": "code",
   "execution_count": null,
   "id": "48e836d3",
   "metadata": {},
   "outputs": [],
   "source": [
    "print(f\"{data = }\")"
   ]
  },
  {
   "cell_type": "markdown",
   "id": "1a70d488",
   "metadata": {},
   "source": [
    "You can list the available methods on this object using the `dir` method\n",
    "And if you are working in a notebook you can also type `data.` and hit the `TAB` key."
   ]
  },
  {
   "cell_type": "code",
   "execution_count": null,
   "id": "1c58883b",
   "metadata": {},
   "outputs": [],
   "source": [
    "print(f\"{dir(data) = }\")"
   ]
  },
  {
   "cell_type": "markdown",
   "id": "3b2d849d",
   "metadata": {},
   "source": [
    "Now lets print the info attribute which will list some basic info about the data"
   ]
  },
  {
   "cell_type": "code",
   "execution_count": null,
   "id": "616dfe97",
   "metadata": {},
   "outputs": [],
   "source": [
    "print(f\"{data.info = }\")"
   ]
  },
  {
   "cell_type": "markdown",
   "id": "553acebc",
   "metadata": {},
   "source": [
    "If you want a little bit nicer looking output you can also use the pretty printer in python"
   ]
  },
  {
   "cell_type": "code",
   "execution_count": null,
   "id": "b4e89aa5",
   "metadata": {},
   "outputs": [],
   "source": [
    "import pprint"
   ]
  },
  {
   "cell_type": "code",
   "execution_count": null,
   "id": "691c8d83",
   "metadata": {},
   "outputs": [],
   "source": [
    "pprint.pprint(data.info)"
   ]
  },
  {
   "cell_type": "markdown",
   "id": "c876a719",
   "metadata": {},
   "source": [
    "The actual frames are stored as the attribute `.frames`. This will be a numpy array of shape `(size_x, size_y, num_frames)`"
   ]
  },
  {
   "cell_type": "code",
   "execution_count": null,
   "id": "c90cd979",
   "metadata": {},
   "outputs": [],
   "source": [
    "print(f\"{data.frames.shape = }\")"
   ]
  },
  {
   "cell_type": "markdown",
   "id": "45a7fa70",
   "metadata": {},
   "source": [
    "The frames contains pixel intensities that are typically stored as 16-bits unsigned integers (uint16)"
   ]
  },
  {
   "cell_type": "code",
   "execution_count": null,
   "id": "1bd323ae",
   "metadata": {},
   "outputs": [],
   "source": [
    "print(f\"{data.frames = }\")"
   ]
  },
  {
   "cell_type": "markdown",
   "id": "ef8fac31",
   "metadata": {},
   "source": [
    "The time stamps are stored in the attribute `time_stamps` as a numpy array of length `num_frames`"
   ]
  },
  {
   "cell_type": "code",
   "execution_count": null,
   "id": "a4f02ebe",
   "metadata": {},
   "outputs": [],
   "source": [
    "print(f\"{data.time_stamps.shape = }\")"
   ]
  },
  {
   "cell_type": "code",
   "execution_count": null,
   "id": "28e252a3",
   "metadata": {},
   "outputs": [],
   "source": [
    "print(f\"{data.time_stamps = }\")"
   ]
  },
  {
   "cell_type": "markdown",
   "id": "d30b86c0",
   "metadata": {},
   "source": [
    "If the cells are paced then this information might be stored in the metadata of the recording. In this case this will be extracted in the attribute `pacing` which will also be a numpy array of length `num_frames`."
   ]
  },
  {
   "cell_type": "code",
   "execution_count": null,
   "id": "66c03444",
   "metadata": {},
   "outputs": [],
   "source": [
    "print(f\"{data.pacing.shape = }\")"
   ]
  },
  {
   "cell_type": "code",
   "execution_count": null,
   "id": "4c31947a",
   "metadata": {},
   "outputs": [],
   "source": [
    "print(f\"{data.pacing = }\")"
   ]
  },
  {
   "cell_type": "markdown",
   "id": "6d8f6b4c",
   "metadata": {},
   "source": [
    "If the cell is not paced, or there is no information about the pacing stored within the recording, then this array will only contain zeros."
   ]
  }
 ],
 "metadata": {
  "jupytext": {
   "cell_metadata_filter": "-all",
   "main_language": "python",
   "notebook_metadata_filter": "-all"
  }
 },
 "nbformat": 4,
 "nbformat_minor": 5
}
