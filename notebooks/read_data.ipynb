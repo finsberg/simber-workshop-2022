{
 "cells": [
  {
   "cell_type": "markdown",
   "id": "e2944ab6",
   "metadata": {},
   "source": [
    "# Reading a recording using the `mps` package\n",
    "\n",
    "In this demo we will learn how to open a file an printing some basic info about the recording.\n",
    "\n",
    "First thing we need to do is to import the mps library"
   ]
  },
  {
   "cell_type": "code",
   "execution_count": 1,
   "id": "b48ed9d2",
   "metadata": {},
   "outputs": [],
   "source": [
    "import mps"
   ]
  },
  {
   "cell_type": "markdown",
   "id": "c3a753a3",
   "metadata": {},
   "source": [
    "Next thing we need to do is to specify the path to the file we want to open. \n",
    "If you have already have some data you can use that (in this case change the string below to the path to the file you want to open), otherwise you can download some sample data"
   ]
  },
  {
   "cell_type": "code",
   "execution_count": 16,
   "id": "5fc9f2df",
   "metadata": {},
   "outputs": [],
   "source": [
    "from pathlib import Path\n",
    "\n",
    "path = Path(\"data.tif\")"
   ]
  },
  {
   "cell_type": "code",
   "execution_count": 4,
   "id": "61eb9322",
   "metadata": {},
   "outputs": [],
   "source": [
    "def download_data():\n",
    "    print(\"Downloading data. Please wait...\")\n",
    "    link = \"https://www.dropbox.com/s/xkptsme5wqwbpi8/data.tif?dl=1\"\n",
    "    import urllib.request\n",
    "    import time\n",
    "\n",
    "    urllib.request.urlretrieve(link, path)\n",
    "    time.sleep(1.0)\n",
    "    print(\"Done downloading data\")"
   ]
  },
  {
   "cell_type": "code",
   "execution_count": 17,
   "id": "25f3aed5",
   "metadata": {},
   "outputs": [],
   "source": [
    "# Download the data if file does not exist\n",
    "if not path.is_file():\n",
    "    download_data()"
   ]
  },
  {
   "cell_type": "markdown",
   "id": "1e228d46",
   "metadata": {},
   "source": [
    "The `mps` pacakge can read various file formats including `.tif`, `.stk`, `.nd2` and `.czi`.\n",
    "\n",
    "Now let us load the data by passing the path the `mps.MPS` object"
   ]
  },
  {
   "cell_type": "code",
   "execution_count": 6,
   "id": "f66bf346",
   "metadata": {},
   "outputs": [],
   "source": [
    "data = mps.MPS(path)"
   ]
  },
  {
   "cell_type": "markdown",
   "id": "d4c1f841",
   "metadata": {},
   "source": [
    "This will create an object the allow us to read the recording as well as metadata stored within the file.\n",
    "\n",
    "Lets print the data object"
   ]
  },
  {
   "cell_type": "code",
   "execution_count": 7,
   "id": "157c5ab5",
   "metadata": {},
   "outputs": [
    {
     "name": "stdout",
     "output_type": "stream",
     "text": [
      "data =  MPS(/Users/finsberg/local/src/simber-workshop-2022/notebooks/data.tif)\n"
     ]
    }
   ],
   "source": [
    "print(\"data = \", data)"
   ]
  },
  {
   "cell_type": "markdown",
   "id": "c2474b30",
   "metadata": {},
   "source": [
    "We can aslo use a bit more convenient way to print this in python using f-strings"
   ]
  },
  {
   "cell_type": "code",
   "execution_count": 8,
   "id": "fe968705",
   "metadata": {},
   "outputs": [
    {
     "name": "stdout",
     "output_type": "stream",
     "text": [
      "data = MPS(/Users/finsberg/local/src/simber-workshop-2022/notebooks/data.tif)\n"
     ]
    }
   ],
   "source": [
    "print(f\"{data = }\")"
   ]
  },
  {
   "cell_type": "markdown",
   "id": "b5e09904",
   "metadata": {},
   "source": [
    "You can list the available methods on this object using the `dir` method\n",
    "And if you are working in a notebook you can also type `data.` and hit the `TAB` key."
   ]
  },
  {
   "cell_type": "code",
   "execution_count": 9,
   "id": "93fc1245",
   "metadata": {},
   "outputs": [
    {
     "name": "stdout",
     "output_type": "stream",
     "text": [
      "dir(data) = ['__class__', '__delattr__', '__dict__', '__dir__', '__doc__', '__eq__', '__format__', '__ge__', '__getattribute__', '__getstate__', '__gt__', '__hash__', '__init__', '__init_subclass__', '__le__', '__lt__', '__module__', '__ne__', '__new__', '__reduce__', '__reduce_ex__', '__repr__', '__setattr__', '__setstate__', '__sizeof__', '__str__', '__subclasshook__', '__weakref__', '_ext', '_fname', '_unpack', 'data', 'dt', 'framerate', 'frames', 'from_dict', 'info', 'metadata', 'name', 'num_frames', 'original_time_stamps', 'pacing', 'pacing_frequency', 'size_x', 'size_y', 'time_stamps', 'time_unit', 'um_per_pixel']\n"
     ]
    }
   ],
   "source": [
    "print(f\"{dir(data) = }\")"
   ]
  },
  {
   "cell_type": "markdown",
   "id": "e48e188d",
   "metadata": {},
   "source": [
    "Now lets print the info attribute which will list some basic info about the data"
   ]
  },
  {
   "cell_type": "code",
   "execution_count": 10,
   "id": "8274001f",
   "metadata": {},
   "outputs": [
    {
     "name": "stdout",
     "output_type": "stream",
     "text": [
      "data.info = {'num_frames': 1500, 'dt': 5.010673782521681, 'time_unit': 'ms', 'size_x': 1024, 'size_y': 205, 'um_per_pixel': 1.3552}\n"
     ]
    }
   ],
   "source": [
    "print(f\"{data.info = }\")"
   ]
  },
  {
   "cell_type": "markdown",
   "id": "b737b416",
   "metadata": {},
   "source": [
    "If you want a little bit nicer looking output you can also use the pretty printer in python"
   ]
  },
  {
   "cell_type": "code",
   "execution_count": 11,
   "id": "f0962f98",
   "metadata": {},
   "outputs": [],
   "source": [
    "import pprint"
   ]
  },
  {
   "cell_type": "code",
   "execution_count": 12,
   "id": "fc317ebe",
   "metadata": {},
   "outputs": [
    {
     "name": "stdout",
     "output_type": "stream",
     "text": [
      "{'dt': 5.010673782521681,\n",
      " 'num_frames': 1500,\n",
      " 'size_x': 1024,\n",
      " 'size_y': 205,\n",
      " 'time_unit': 'ms',\n",
      " 'um_per_pixel': 1.3552}\n"
     ]
    }
   ],
   "source": [
    "pprint.pprint(data.info)"
   ]
  },
  {
   "cell_type": "markdown",
   "id": "637fd58b",
   "metadata": {},
   "source": [
    "The actual frames are stored as the attribute `.frames`. This will be a numpy array of shape `(size_x, size_y, num_frames)`"
   ]
  },
  {
   "cell_type": "code",
   "execution_count": null,
   "id": "59c33613",
   "metadata": {},
   "outputs": [],
   "source": [
    "print(f\"{data.frames.shape = }\")"
   ]
  },
  {
   "cell_type": "markdown",
   "id": "7f810256",
   "metadata": {},
   "source": [
    "The frames contains pixel intensities that are typically stored as 16-bits unsigned integers (uint16)"
   ]
  },
  {
   "cell_type": "code",
   "execution_count": null,
   "id": "01257349",
   "metadata": {},
   "outputs": [],
   "source": [
    "print(f\"{data.frames = }\")"
   ]
  },
  {
   "cell_type": "markdown",
   "id": "948bc351",
   "metadata": {},
   "source": [
    "The time stamps are stored in the attribute `time_stamps` as a numpy array of length `num_frames`"
   ]
  },
  {
   "cell_type": "code",
   "execution_count": null,
   "id": "ecc4f7ef",
   "metadata": {},
   "outputs": [],
   "source": [
    "print(f\"{data.time_stamps.shape = }\")"
   ]
  },
  {
   "cell_type": "code",
   "execution_count": null,
   "id": "bee4fb35",
   "metadata": {},
   "outputs": [],
   "source": [
    "print(f\"{data.time_stamps = }\")"
   ]
  },
  {
   "cell_type": "markdown",
   "id": "9a4f5a0e",
   "metadata": {},
   "source": [
    "If the cells are paced then this information might be stored in the metadata of the recording. In this case this will be extracted in the attribute `pacing` which will also be a numpy array of length `num_frames`."
   ]
  },
  {
   "cell_type": "code",
   "execution_count": null,
   "id": "4e0744a0",
   "metadata": {},
   "outputs": [],
   "source": [
    "print(f\"{data.pacing.shape = }\")"
   ]
  },
  {
   "cell_type": "code",
   "execution_count": null,
   "id": "b3bac372",
   "metadata": {},
   "outputs": [],
   "source": [
    "print(f\"{data.pacing = }\")"
   ]
  },
  {
   "cell_type": "markdown",
   "id": "6111d032",
   "metadata": {},
   "source": [
    "If the cell is not paced, or there is no information about the pacing stored within the recording, then this array will only contain zeros."
   ]
  }
 ],
 "metadata": {
  "jupytext": {
   "cell_metadata_filter": "-all",
   "main_language": "python",
   "notebook_metadata_filter": "-all"
  },
  "kernelspec": {
   "display_name": "Python 3 (ipykernel)",
   "language": "python",
   "name": "python3"
  },
  "language_info": {
   "codemirror_mode": {
    "name": "ipython",
    "version": 3
   },
   "file_extension": ".py",
   "mimetype": "text/x-python",
   "name": "python",
   "nbconvert_exporter": "python",
   "pygments_lexer": "ipython3",
   "version": "3.9.13"
  }
 },
 "nbformat": 4,
 "nbformat_minor": 5
}
